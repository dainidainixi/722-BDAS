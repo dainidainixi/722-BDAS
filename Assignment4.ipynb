{
 "cells": [
  {
   "cell_type": "code",
   "execution_count": 1,
   "metadata": {},
   "outputs": [],
   "source": [
    "import findspark\n",
    "findspark.init('/home/ubuntu/spark-2.1.1-bin-hadoop2.7')\n",
    "import pyspark\n",
    "from pyspark.sql import SparkSession\n",
    "spark = SparkSession.builder.appName('Assignment4').getOrCreate()"
   ]
  },
  {
   "cell_type": "code",
   "execution_count": 2,
   "metadata": {},
   "outputs": [],
   "source": [
    "df_sales = spark.read.load('/home/ubuntu/datasets/sales_train.csv', format = 'csv', header = 'true')\n",
    "df_supplier = spark.read.load('/home/ubuntu/datasets/shops.csv', format = 'csv', header = 'true')\n",
    "df_product = spark.read.load('/home/ubuntu/datasets/items.csv', format = 'csv', header = 'true')\n",
    "df_recentsales = spark.read.load('/home/ubuntu/datasets/recentsales.csv', format = 'csv', header = 'true')"
   ]
  },
  {
   "cell_type": "code",
   "execution_count": 3,
   "metadata": {},
   "outputs": [
    {
     "name": "stdout",
     "output_type": "stream",
     "text": [
      "root\n",
      " |-- date: string (nullable = true)\n",
      " |-- date_block_num: string (nullable = true)\n",
      " |-- shop_id: string (nullable = true)\n",
      " |-- item_id: string (nullable = true)\n",
      " |-- item_price: string (nullable = true)\n",
      " |-- item_cnt_day: string (nullable = true)\n",
      "\n",
      "+----------+--------------+-------+-------+----------+------------+\n",
      "|      date|date_block_num|shop_id|item_id|item_price|item_cnt_day|\n",
      "+----------+--------------+-------+-------+----------+------------+\n",
      "|02.01.2013|             0|     59|  22154|     999.0|         1.0|\n",
      "|03.01.2013|             0|     25|   2552|     899.0|         1.0|\n",
      "|05.01.2013|             0|     25|   2552|     899.0|        -1.0|\n",
      "|06.01.2013|             0|     25|   2554|   1709.05|         1.0|\n",
      "|15.01.2013|             0|     25|   2555|    1099.0|         1.0|\n",
      "|10.01.2013|             0|     25|   2564|     349.0|         1.0|\n",
      "|02.01.2013|             0|     25|   2565|     549.0|         1.0|\n",
      "|04.01.2013|             0|     25|   2572|     239.0|         1.0|\n",
      "|11.01.2013|             0|     25|   2572|     299.0|         1.0|\n",
      "|03.01.2013|             0|     25|   2573|     299.0|         3.0|\n",
      "|03.01.2013|             0|     25|   2574|     399.0|         2.0|\n",
      "|05.01.2013|             0|     25|   2574|     399.0|         1.0|\n",
      "|07.01.2013|             0|     25|   2574|     399.0|         1.0|\n",
      "|08.01.2013|             0|     25|   2574|     399.0|         2.0|\n",
      "|10.01.2013|             0|     25|   2574|     399.0|         1.0|\n",
      "|11.01.2013|             0|     25|   2574|     399.0|         2.0|\n",
      "|13.01.2013|             0|     25|   2574|     399.0|         1.0|\n",
      "|16.01.2013|             0|     25|   2574|     399.0|         1.0|\n",
      "|26.01.2013|             0|     25|   2574|     399.0|         1.0|\n",
      "|27.01.2013|             0|     25|   2574|     399.0|         1.0|\n",
      "+----------+--------------+-------+-------+----------+------------+\n",
      "only showing top 20 rows\n",
      "\n"
     ]
    },
    {
     "data": {
      "text/plain": [
       "2935849"
      ]
     },
     "execution_count": 3,
     "metadata": {},
     "output_type": "execute_result"
    }
   ],
   "source": [
    "df_sales.printSchema() #check format\n",
    "df_sales.columns #check fields\n",
    "df_sales.show() #check data\n",
    "df_sales.count() #check quantity"
   ]
  },
  {
   "cell_type": "code",
   "execution_count": 4,
   "metadata": {},
   "outputs": [
    {
     "name": "stdout",
     "output_type": "stream",
     "text": [
      "root\n",
      " |-- shop_name: string (nullable = true)\n",
      " |-- shop_id: string (nullable = true)\n",
      "\n",
      "+--------------------+-------+\n",
      "|           shop_name|shop_id|\n",
      "+--------------------+-------+\n",
      "|!Якутск Орджоники...|      0|\n",
      "|\"!Якутск ТЦ \"\"Цен...|      1|\n",
      "|\"Адыгея ТЦ \"\"Мега\"\"\"|      2|\n",
      "|\"Балашиха ТРК \"\"О...|      3|\n",
      "|\"Волжский ТЦ \"\"Во...|      4|\n",
      "|\"Вологда ТРЦ \"\"Ма...|      5|\n",
      "|Воронеж (Плеханов...|      6|\n",
      "|\"Воронеж ТРЦ \"\"Ма...|      7|\n",
      "|\"Воронеж ТРЦ Сити...|      8|\n",
      "|   Выездная Торговля|      9|\n",
      "|Жуковский ул. Чка...|     10|\n",
      "|Жуковский ул. Чка...|     11|\n",
      "| Интернет-магазин ЧС|     12|\n",
      "|\"Казань ТЦ \"\"Бехе...|     13|\n",
      "|\"Казань ТЦ \"\"Парк...|     14|\n",
      "|\"Калуга ТРЦ \"\"XXI...|     15|\n",
      "|\"Коломна ТЦ \"\"Рио\"\"\"|     16|\n",
      "|\"Красноярск ТЦ \"\"...|     17|\n",
      "|\"Красноярск ТЦ \"\"...|     18|\n",
      "|\"Курск ТЦ \"\"Пушки...|     19|\n",
      "+--------------------+-------+\n",
      "only showing top 20 rows\n",
      "\n"
     ]
    },
    {
     "data": {
      "text/plain": [
       "60"
      ]
     },
     "execution_count": 4,
     "metadata": {},
     "output_type": "execute_result"
    }
   ],
   "source": [
    "df_supplier.printSchema() #check format\n",
    "df_supplier.columns #check fields\n",
    "df_supplier.show() #check data\n",
    "df_supplier.count() #check quantity"
   ]
  },
  {
   "cell_type": "code",
   "execution_count": 5,
   "metadata": {},
   "outputs": [
    {
     "name": "stdout",
     "output_type": "stream",
     "text": [
      "root\n",
      " |-- item_name: string (nullable = true)\n",
      " |-- item_id: string (nullable = true)\n",
      " |-- item_category_id: string (nullable = true)\n",
      "\n",
      "+--------------------+-------+----------------+\n",
      "|           item_name|item_id|item_category_id|\n",
      "+--------------------+-------+----------------+\n",
      "|! ВО ВЛАСТИ НАВАЖ...|      0|              40|\n",
      "|!ABBYY FineReader...|      1|              76|\n",
      "|***В ЛУЧАХ СЛАВЫ ...|      2|              40|\n",
      "|***ГОЛУБАЯ ВОЛНА ...|      3|              40|\n",
      "|***КОРОБКА (СТЕКЛ...|      4|              40|\n",
      "|***НОВЫЕ АМЕРИКАН...|      5|              40|\n",
      "|***УДАР ПО ВОРОТА...|      6|              40|\n",
      "|***УДАР ПО ВОРОТА...|      7|              40|\n",
      "|***ЧАЙ С МУССОЛИН...|      8|              40|\n",
      "|***ШУГАРЛЭНДСКИЙ ...|      9|              40|\n",
      "|*ЗА ГРАНЬЮ СМЕРТИ...|     10|              40|\n",
      "|*ЛИНИЯ СМЕРТИ    ...|     11|              40|\n",
      "|*МИХЕЙ И ДЖУМАНДЖ...|     12|              55|\n",
      "|*СПАСАЯ ЭМИЛИ    ...|     13|              40|\n",
      "|*ЧОКНУТЫЙ ПРОФЕСС...|     14|              40|\n",
      "|//АДРЕНАЛИН: ОДИН...|     15|              40|\n",
      "|//МОНГОЛ С.Бодров...|     16|              40|\n",
      "|//НЕ ОСТАВЛЯЮЩИЙ ...|     17|              40|\n",
      "|/БОМБА ДЛЯ НЕВЕСТ...|     18|              40|\n",
      "|/ЗОЛОТАЯ КОЛЛЕКЦИ...|     19|              40|\n",
      "+--------------------+-------+----------------+\n",
      "only showing top 20 rows\n",
      "\n"
     ]
    },
    {
     "data": {
      "text/plain": [
       "22170"
      ]
     },
     "execution_count": 5,
     "metadata": {},
     "output_type": "execute_result"
    }
   ],
   "source": [
    "df_product.printSchema() #check format\n",
    "df_product.columns #check fields\n",
    "df_product.show() #check data\n",
    "df_product.count() #check quantity"
   ]
  },
  {
   "cell_type": "code",
   "execution_count": 6,
   "metadata": {},
   "outputs": [
    {
     "name": "stdout",
     "output_type": "stream",
     "text": [
      "root\n",
      " |-- ID: string (nullable = true)\n",
      " |-- shop_id: string (nullable = true)\n",
      " |-- item_id: string (nullable = true)\n",
      "\n",
      "+---+-------+-------+\n",
      "| ID|shop_id|item_id|\n",
      "+---+-------+-------+\n",
      "|  0|      5|   5037|\n",
      "|  1|      5|   5320|\n",
      "|  2|      5|   5233|\n",
      "|  3|      5|   5232|\n",
      "|  4|      5|   5268|\n",
      "|  5|      5|   5039|\n",
      "|  6|      5|   5041|\n",
      "|  7|      5|   5046|\n",
      "|  8|      5|   5319|\n",
      "|  9|      5|   5003|\n",
      "| 10|      5|   4806|\n",
      "| 11|      5|   4843|\n",
      "| 12|      5|   4607|\n",
      "| 13|      5|   4869|\n",
      "| 14|      5|   4870|\n",
      "| 15|      5|   4872|\n",
      "| 16|      5|   4874|\n",
      "| 17|      5|   4678|\n",
      "| 18|      5|   4892|\n",
      "| 19|      5|   4964|\n",
      "+---+-------+-------+\n",
      "only showing top 20 rows\n",
      "\n"
     ]
    },
    {
     "data": {
      "text/plain": [
       "214200"
      ]
     },
     "execution_count": 6,
     "metadata": {},
     "output_type": "execute_result"
    }
   ],
   "source": [
    "df_recentsales.printSchema() #check format\n",
    "df_recentsales.columns #check fields\n",
    "df_recentsales.show() #check data\n",
    "df_recentsales.count() #check quantity"
   ]
  },
  {
   "cell_type": "code",
   "execution_count": 7,
   "metadata": {},
   "outputs": [
    {
     "name": "stdout",
     "output_type": "stream",
     "text": [
      "+-------+----------+-----------------+------------------+------------------+------------------+------------------+\n",
      "|summary|      date|   date_block_num|           shop_id|           item_id|        item_price|      item_cnt_day|\n",
      "+-------+----------+-----------------+------------------+------------------+------------------+------------------+\n",
      "|  count|   2935849|          2935849|           2935849|           2935849|           2935849|           2935849|\n",
      "|   mean|      null|14.56991146343017|33.001728290521754|10197.227056977385| 890.8532326979881| 1.242640885140891|\n",
      "| stddev|      null|9.422987708755725| 16.22697304833424|6324.2973538914575|1729.7996307126411|2.6188344308954035|\n",
      "|    min|01.01.2013|                0|                 0|                 0|              -1.0|              -1.0|\n",
      "|    max|31.12.2014|                9|                 9|              9999|            9999.0|              99.0|\n",
      "+-------+----------+-----------------+------------------+------------------+------------------+------------------+\n",
      "\n"
     ]
    }
   ],
   "source": [
    "df_sales.describe().show()"
   ]
  },
  {
   "cell_type": "code",
   "execution_count": 8,
   "metadata": {},
   "outputs": [
    {
     "name": "stdout",
     "output_type": "stream",
     "text": [
      "+-------+--------------------+-----------------+\n",
      "|summary|           shop_name|          shop_id|\n",
      "+-------+--------------------+-----------------+\n",
      "|  count|                  60|               60|\n",
      "|   mean|                null|             29.5|\n",
      "| stddev|                null|17.46424919657298|\n",
      "|    min|!Якутск Орджоники...|                0|\n",
      "|    max|Якутск Орджоникид...|                9|\n",
      "+-------+--------------------+-----------------+\n",
      "\n"
     ]
    }
   ],
   "source": [
    "df_supplier.describe().show()"
   ]
  },
  {
   "cell_type": "code",
   "execution_count": 9,
   "metadata": {},
   "outputs": [
    {
     "name": "stdout",
     "output_type": "stream",
     "text": [
      "+-------+--------------------+--------------------+--------------------+\n",
      "|summary|           item_name|             item_id|    item_category_id|\n",
      "+-------+--------------------+--------------------+--------------------+\n",
      "|  count|               22170|               22170|               22170|\n",
      "|   mean|                42.0|  11104.498478310243|   93.93637102601156|\n",
      "| stddev|                 NaN|   6403.208038926625|   740.2795772983332|\n",
      "|    min|! ВО ВЛАСТИ НАВАЖ...| \"\"1С:Предпринима...| 3 липучки-бросалки\"|\n",
      "|    max|Яйцо дракона (Игр...|         арт. 61-33\"|                9242|\n",
      "+-------+--------------------+--------------------+--------------------+\n",
      "\n"
     ]
    }
   ],
   "source": [
    "df_product.describe().show()"
   ]
  },
  {
   "cell_type": "code",
   "execution_count": 10,
   "metadata": {},
   "outputs": [
    {
     "name": "stdout",
     "output_type": "stream",
     "text": [
      "+-------+-----------------+------------------+-----------------+\n",
      "|summary|               ID|           shop_id|          item_id|\n",
      "+-------+-----------------+------------------+-----------------+\n",
      "|  count|           214200|            214200|           214200|\n",
      "|   mean|         107099.5|31.642857142857142|11019.39862745098|\n",
      "| stddev|61834.35816760776|17.561933489896084|6252.644589940289|\n",
      "|    min|                0|                10|            10003|\n",
      "|    max|            99999|                 7|             9989|\n",
      "+-------+-----------------+------------------+-----------------+\n",
      "\n"
     ]
    }
   ],
   "source": [
    "df_recentsales.describe().show()"
   ]
  },
  {
   "cell_type": "code",
   "execution_count": 3,
   "metadata": {},
   "outputs": [
    {
     "name": "stdout",
     "output_type": "stream",
     "text": [
      "root\n",
      " |-- date: string (nullable = true)\n",
      " |-- date_block_num: string (nullable = true)\n",
      " |-- shop_id: string (nullable = true)\n",
      " |-- item_id: string (nullable = true)\n",
      " |-- item_price: integer (nullable = true)\n",
      " |-- item_cnt_day: integer (nullable = true)\n",
      "\n"
     ]
    }
   ],
   "source": [
    "##From raw data visualisations there are outliers of item_price and item_cnt_day\n",
    "#change datetype from string to integer in order to check outliers\n",
    "from pyspark.sql.types import *\n",
    "outliers_typeprice  = df_sales.withColumn(\"item_price\", df_sales[\"item_price\"].cast(IntegerType()))\n",
    "outliers_type = outliers_typeprice.withColumn(\"item_cnt_day\", outliers_typeprice[\"item_cnt_day\"].cast(IntegerType()))\n",
    "outliers_type.printSchema()"
   ]
  },
  {
   "cell_type": "code",
   "execution_count": 12,
   "metadata": {},
   "outputs": [
    {
     "name": "stdout",
     "output_type": "stream",
     "text": [
      "+----------+\n",
      "|item_price|\n",
      "+----------+\n",
      "|    307980|\n",
      "|     59200|\n",
      "|     50999|\n",
      "|     49782|\n",
      "|     42990|\n",
      "|     42000|\n",
      "|     41990|\n",
      "|     40991|\n",
      "|     40900|\n",
      "|     37991|\n",
      "|     36990|\n",
      "|     35991|\n",
      "|     35990|\n",
      "|     35490|\n",
      "|     35300|\n",
      "|     35192|\n",
      "|     34990|\n",
      "|     34490|\n",
      "|     33990|\n",
      "|     33490|\n",
      "+----------+\n",
      "only showing top 20 rows\n",
      "\n"
     ]
    }
   ],
   "source": [
    "#check outliers of item_price\n",
    "outliers_type.createOrReplaceTempView('outliers_type')\n",
    "outliers_price = spark.sql('SELECT distinct item_price FROM outliers_type ORDER BY item_price desc')\n",
    "outliers_price.show()"
   ]
  },
  {
   "cell_type": "code",
   "execution_count": 13,
   "metadata": {},
   "outputs": [
    {
     "name": "stdout",
     "output_type": "stream",
     "text": [
      "+------------+\n",
      "|item_cnt_day|\n",
      "+------------+\n",
      "|        2169|\n",
      "|        1000|\n",
      "|         669|\n",
      "|         637|\n",
      "|         624|\n",
      "|         539|\n",
      "|         533|\n",
      "|         512|\n",
      "|         508|\n",
      "|         504|\n",
      "|         502|\n",
      "|         501|\n",
      "|         500|\n",
      "|         480|\n",
      "|         412|\n",
      "|         405|\n",
      "|         401|\n",
      "|         343|\n",
      "|         325|\n",
      "|         313|\n",
      "+------------+\n",
      "only showing top 20 rows\n",
      "\n"
     ]
    }
   ],
   "source": [
    "#check outliers of item_cnt_day\n",
    "outliers_item_cnt_day = spark.sql('SELECT distinct item_cnt_day FROM outliers_type ORDER BY item_cnt_day desc')\n",
    "outliers_item_cnt_day.show()"
   ]
  },
  {
   "cell_type": "code",
   "execution_count": 14,
   "metadata": {},
   "outputs": [
    {
     "name": "stdout",
     "output_type": "stream",
     "text": [
      "+----------+--------------+-------+-------+----------+------------+\n",
      "|      date|date_block_num|shop_id|item_id|item_price|item_cnt_day|\n",
      "+----------+--------------+-------+-------+----------+------------+\n",
      "|02.01.2013|             0|     59|  22154|     999.0|         1.0|\n",
      "|03.01.2013|             0|     25|   2552|     899.0|         1.0|\n",
      "|05.01.2013|             0|     25|   2552|     899.0|        -1.0|\n",
      "|06.01.2013|             0|     25|   2554|   1709.05|         1.0|\n",
      "|15.01.2013|             0|     25|   2555|    1099.0|         1.0|\n",
      "|10.01.2013|             0|     25|   2564|     349.0|         1.0|\n",
      "|02.01.2013|             0|     25|   2565|     549.0|         1.0|\n",
      "|04.01.2013|             0|     25|   2572|     239.0|         1.0|\n",
      "|11.01.2013|             0|     25|   2572|     299.0|         1.0|\n",
      "|03.01.2013|             0|     25|   2573|     299.0|         3.0|\n",
      "|03.01.2013|             0|     25|   2574|     399.0|         2.0|\n",
      "|05.01.2013|             0|     25|   2574|     399.0|         1.0|\n",
      "|07.01.2013|             0|     25|   2574|     399.0|         1.0|\n",
      "|08.01.2013|             0|     25|   2574|     399.0|         2.0|\n",
      "|10.01.2013|             0|     25|   2574|     399.0|         1.0|\n",
      "|11.01.2013|             0|     25|   2574|     399.0|         2.0|\n",
      "|13.01.2013|             0|     25|   2574|     399.0|         1.0|\n",
      "|16.01.2013|             0|     25|   2574|     399.0|         1.0|\n",
      "|26.01.2013|             0|     25|   2574|     399.0|         1.0|\n",
      "|27.01.2013|             0|     25|   2574|     399.0|         1.0|\n",
      "+----------+--------------+-------+-------+----------+------------+\n",
      "only showing top 20 rows\n",
      "\n"
     ]
    }
   ],
   "source": [
    "##check missing values\n",
    "#drop off missing values - sales data\n",
    "df_sales.na.drop().show()"
   ]
  },
  {
   "cell_type": "code",
   "execution_count": 15,
   "metadata": {},
   "outputs": [
    {
     "data": {
      "text/plain": [
       "2935849"
      ]
     },
     "execution_count": 15,
     "metadata": {},
     "output_type": "execute_result"
    }
   ],
   "source": [
    "#count dataset after drpping missing values\n",
    "df_sales.na.drop().count()"
   ]
  },
  {
   "cell_type": "code",
   "execution_count": 16,
   "metadata": {},
   "outputs": [
    {
     "data": {
      "text/plain": [
       "2935849"
      ]
     },
     "execution_count": 16,
     "metadata": {},
     "output_type": "execute_result"
    }
   ],
   "source": [
    "#compare with the original dataset\n",
    "df_sales.count()"
   ]
  },
  {
   "cell_type": "code",
   "execution_count": 17,
   "metadata": {},
   "outputs": [
    {
     "name": "stdout",
     "output_type": "stream",
     "text": [
      "+--------------------+-------+\n",
      "|           shop_name|shop_id|\n",
      "+--------------------+-------+\n",
      "|!Якутск Орджоники...|      0|\n",
      "|\"!Якутск ТЦ \"\"Цен...|      1|\n",
      "|\"Адыгея ТЦ \"\"Мега\"\"\"|      2|\n",
      "|\"Балашиха ТРК \"\"О...|      3|\n",
      "|\"Волжский ТЦ \"\"Во...|      4|\n",
      "|\"Вологда ТРЦ \"\"Ма...|      5|\n",
      "|Воронеж (Плеханов...|      6|\n",
      "|\"Воронеж ТРЦ \"\"Ма...|      7|\n",
      "|\"Воронеж ТРЦ Сити...|      8|\n",
      "|   Выездная Торговля|      9|\n",
      "|Жуковский ул. Чка...|     10|\n",
      "|Жуковский ул. Чка...|     11|\n",
      "| Интернет-магазин ЧС|     12|\n",
      "|\"Казань ТЦ \"\"Бехе...|     13|\n",
      "|\"Казань ТЦ \"\"Парк...|     14|\n",
      "|\"Калуга ТРЦ \"\"XXI...|     15|\n",
      "|\"Коломна ТЦ \"\"Рио\"\"\"|     16|\n",
      "|\"Красноярск ТЦ \"\"...|     17|\n",
      "|\"Красноярск ТЦ \"\"...|     18|\n",
      "|\"Курск ТЦ \"\"Пушки...|     19|\n",
      "+--------------------+-------+\n",
      "only showing top 20 rows\n",
      "\n"
     ]
    }
   ],
   "source": [
    "#drop off missing values - supplier data\n",
    "df_supplier.na.drop().show()"
   ]
  },
  {
   "cell_type": "code",
   "execution_count": 20,
   "metadata": {},
   "outputs": [
    {
     "data": {
      "text/plain": [
       "60"
      ]
     },
     "execution_count": 20,
     "metadata": {},
     "output_type": "execute_result"
    }
   ],
   "source": [
    "#count dataset after drpping missing values\n",
    "df_supplier.na.drop().count()"
   ]
  },
  {
   "cell_type": "code",
   "execution_count": 21,
   "metadata": {},
   "outputs": [
    {
     "data": {
      "text/plain": [
       "60"
      ]
     },
     "execution_count": 21,
     "metadata": {},
     "output_type": "execute_result"
    }
   ],
   "source": [
    "#compare with the original dataset\n",
    "df_supplier.count()"
   ]
  },
  {
   "cell_type": "code",
   "execution_count": 22,
   "metadata": {},
   "outputs": [
    {
     "name": "stdout",
     "output_type": "stream",
     "text": [
      "+--------------------+-------+----------------+\n",
      "|           item_name|item_id|item_category_id|\n",
      "+--------------------+-------+----------------+\n",
      "|! ВО ВЛАСТИ НАВАЖ...|      0|              40|\n",
      "|!ABBYY FineReader...|      1|              76|\n",
      "|***В ЛУЧАХ СЛАВЫ ...|      2|              40|\n",
      "|***ГОЛУБАЯ ВОЛНА ...|      3|              40|\n",
      "|***КОРОБКА (СТЕКЛ...|      4|              40|\n",
      "|***НОВЫЕ АМЕРИКАН...|      5|              40|\n",
      "|***УДАР ПО ВОРОТА...|      6|              40|\n",
      "|***УДАР ПО ВОРОТА...|      7|              40|\n",
      "|***ЧАЙ С МУССОЛИН...|      8|              40|\n",
      "|***ШУГАРЛЭНДСКИЙ ...|      9|              40|\n",
      "|*ЗА ГРАНЬЮ СМЕРТИ...|     10|              40|\n",
      "|*ЛИНИЯ СМЕРТИ    ...|     11|              40|\n",
      "|*МИХЕЙ И ДЖУМАНДЖ...|     12|              55|\n",
      "|*СПАСАЯ ЭМИЛИ    ...|     13|              40|\n",
      "|*ЧОКНУТЫЙ ПРОФЕСС...|     14|              40|\n",
      "|//АДРЕНАЛИН: ОДИН...|     15|              40|\n",
      "|//МОНГОЛ С.Бодров...|     16|              40|\n",
      "|//НЕ ОСТАВЛЯЮЩИЙ ...|     17|              40|\n",
      "|/БОМБА ДЛЯ НЕВЕСТ...|     18|              40|\n",
      "|/ЗОЛОТАЯ КОЛЛЕКЦИ...|     19|              40|\n",
      "+--------------------+-------+----------------+\n",
      "only showing top 20 rows\n",
      "\n"
     ]
    }
   ],
   "source": [
    "#drop off missing values - product data\n",
    "df_product.na.drop().show()"
   ]
  },
  {
   "cell_type": "code",
   "execution_count": 23,
   "metadata": {},
   "outputs": [
    {
     "data": {
      "text/plain": [
       "22170"
      ]
     },
     "execution_count": 23,
     "metadata": {},
     "output_type": "execute_result"
    }
   ],
   "source": [
    "#count dataset after drpping missing values\n",
    "df_product.na.drop().count()"
   ]
  },
  {
   "cell_type": "code",
   "execution_count": 24,
   "metadata": {},
   "outputs": [
    {
     "data": {
      "text/plain": [
       "22170"
      ]
     },
     "execution_count": 24,
     "metadata": {},
     "output_type": "execute_result"
    }
   ],
   "source": [
    "#compare with the original dataset\n",
    "df_product.count()"
   ]
  },
  {
   "cell_type": "code",
   "execution_count": 25,
   "metadata": {},
   "outputs": [
    {
     "name": "stdout",
     "output_type": "stream",
     "text": [
      "+---+-------+-------+\n",
      "| ID|shop_id|item_id|\n",
      "+---+-------+-------+\n",
      "|  0|      5|   5037|\n",
      "|  1|      5|   5320|\n",
      "|  2|      5|   5233|\n",
      "|  3|      5|   5232|\n",
      "|  4|      5|   5268|\n",
      "|  5|      5|   5039|\n",
      "|  6|      5|   5041|\n",
      "|  7|      5|   5046|\n",
      "|  8|      5|   5319|\n",
      "|  9|      5|   5003|\n",
      "| 10|      5|   4806|\n",
      "| 11|      5|   4843|\n",
      "| 12|      5|   4607|\n",
      "| 13|      5|   4869|\n",
      "| 14|      5|   4870|\n",
      "| 15|      5|   4872|\n",
      "| 16|      5|   4874|\n",
      "| 17|      5|   4678|\n",
      "| 18|      5|   4892|\n",
      "| 19|      5|   4964|\n",
      "+---+-------+-------+\n",
      "only showing top 20 rows\n",
      "\n"
     ]
    }
   ],
   "source": [
    "#drop off missing values - recentsales data\n",
    "df_recentsales.na.drop().show()"
   ]
  },
  {
   "cell_type": "code",
   "execution_count": 26,
   "metadata": {},
   "outputs": [
    {
     "data": {
      "text/plain": [
       "214200"
      ]
     },
     "execution_count": 26,
     "metadata": {},
     "output_type": "execute_result"
    }
   ],
   "source": [
    "#count dataset after drpping missing values\n",
    "df_recentsales.na.drop().count()"
   ]
  },
  {
   "cell_type": "code",
   "execution_count": 27,
   "metadata": {},
   "outputs": [
    {
     "data": {
      "text/plain": [
       "214200"
      ]
     },
     "execution_count": 27,
     "metadata": {},
     "output_type": "execute_result"
    }
   ],
   "source": [
    "#compare with the original dataset\n",
    "df_recentsales.count()"
   ]
  },
  {
   "cell_type": "code",
   "execution_count": 4,
   "metadata": {},
   "outputs": [
    {
     "name": "stdout",
     "output_type": "stream",
     "text": [
      "+--------------------+-------+----------------+\n",
      "|           item_name|item_id|item_category_id|\n",
      "+--------------------+-------+----------------+\n",
      "|! ВО ВЛАСТИ НАВАЖ...|      0|              40|\n",
      "|!ABBYY FineReader...|      1|              76|\n",
      "|***В ЛУЧАХ СЛАВЫ ...|      2|              40|\n",
      "|***ГОЛУБАЯ ВОЛНА ...|      3|              40|\n",
      "|***КОРОБКА (СТЕКЛ...|      4|              40|\n",
      "|***НОВЫЕ АМЕРИКАН...|      5|              40|\n",
      "|***УДАР ПО ВОРОТА...|      6|              40|\n",
      "|***УДАР ПО ВОРОТА...|      7|              40|\n",
      "|***ЧАЙ С МУССОЛИН...|      8|              40|\n",
      "|***ШУГАРЛЭНДСКИЙ ...|      9|              40|\n",
      "|*ЗА ГРАНЬЮ СМЕРТИ...|     10|              40|\n",
      "|*ЛИНИЯ СМЕРТИ    ...|     11|              40|\n",
      "|*МИХЕЙ И ДЖУМАНДЖ...|     12|              55|\n",
      "|*СПАСАЯ ЭМИЛИ    ...|     13|              40|\n",
      "|*ЧОКНУТЫЙ ПРОФЕСС...|     14|              40|\n",
      "|//АДРЕНАЛИН: ОДИН...|     15|              40|\n",
      "|//МОНГОЛ С.Бодров...|     16|              40|\n",
      "|//НЕ ОСТАВЛЯЮЩИЙ ...|     17|              40|\n",
      "|/БОМБА ДЛЯ НЕВЕСТ...|     18|              40|\n",
      "|/ЗОЛОТАЯ КОЛЛЕКЦИ...|     19|              40|\n",
      "+--------------------+-------+----------------+\n",
      "only showing top 20 rows\n",
      "\n",
      "+--------------------+-------+\n",
      "|           item_name|item_id|\n",
      "+--------------------+-------+\n",
      "|! ВО ВЛАСТИ НАВАЖ...|      0|\n",
      "|!ABBYY FineReader...|      1|\n",
      "|***В ЛУЧАХ СЛАВЫ ...|      2|\n",
      "|***ГОЛУБАЯ ВОЛНА ...|      3|\n",
      "|***КОРОБКА (СТЕКЛ...|      4|\n",
      "|***НОВЫЕ АМЕРИКАН...|      5|\n",
      "|***УДАР ПО ВОРОТА...|      6|\n",
      "|***УДАР ПО ВОРОТА...|      7|\n",
      "|***ЧАЙ С МУССОЛИН...|      8|\n",
      "|***ШУГАРЛЭНДСКИЙ ...|      9|\n",
      "|*ЗА ГРАНЬЮ СМЕРТИ...|     10|\n",
      "|*ЛИНИЯ СМЕРТИ    ...|     11|\n",
      "|*МИХЕЙ И ДЖУМАНДЖ...|     12|\n",
      "|*СПАСАЯ ЭМИЛИ    ...|     13|\n",
      "|*ЧОКНУТЫЙ ПРОФЕСС...|     14|\n",
      "|//АДРЕНАЛИН: ОДИН...|     15|\n",
      "|//МОНГОЛ С.Бодров...|     16|\n",
      "|//НЕ ОСТАВЛЯЮЩИЙ ...|     17|\n",
      "|/БОМБА ДЛЯ НЕВЕСТ...|     18|\n",
      "|/ЗОЛОТАЯ КОЛЛЕКЦИ...|     19|\n",
      "+--------------------+-------+\n",
      "only showing top 20 rows\n",
      "\n"
     ]
    }
   ],
   "source": [
    "#original products data\n",
    "df_product.show()\n",
    "#drop off item_category_id\n",
    "df_product=df_product.drop('item_category_id')\n",
    "df_product.show()"
   ]
  },
  {
   "cell_type": "code",
   "execution_count": 5,
   "metadata": {},
   "outputs": [
    {
     "name": "stdout",
     "output_type": "stream",
     "text": [
      "+-------+-------+----------+--------------+----------+------------+\n",
      "|item_id|shop_id|      date|date_block_num|item_price|item_cnt_day|\n",
      "+-------+-------+----------+--------------+----------+------------+\n",
      "|  22154|     59|02.01.2013|             0|     999.0|         1.0|\n",
      "|   2574|     25|03.01.2013|             0|     399.0|         2.0|\n",
      "|   2574|     25|05.01.2013|             0|     399.0|         1.0|\n",
      "|   2574|     25|07.01.2013|             0|     399.0|         1.0|\n",
      "|   2574|     25|08.01.2013|             0|     399.0|         2.0|\n",
      "|   2574|     25|10.01.2013|             0|     399.0|         1.0|\n",
      "|   2574|     25|11.01.2013|             0|     399.0|         2.0|\n",
      "|   2574|     25|13.01.2013|             0|     399.0|         1.0|\n",
      "|   2574|     25|16.01.2013|             0|     399.0|         1.0|\n",
      "|   2574|     25|26.01.2013|             0|     399.0|         1.0|\n",
      "|   2574|     25|27.01.2013|             0|     399.0|         1.0|\n",
      "|   2607|     25|27.01.2013|             0|     279.0|         1.0|\n",
      "|   2607|     25|29.01.2013|             0|     279.0|         1.0|\n",
      "|   2614|     25|19.01.2013|             0|     299.0|         1.0|\n",
      "|   2614|     25|27.01.2013|             0|     299.0|         1.0|\n",
      "|   2808|     25|02.01.2013|             0|     999.0|         2.0|\n",
      "|   2808|     25|03.01.2013|             0|     999.0|         2.0|\n",
      "|   2808|     25|04.01.2013|             0|     999.0|         1.0|\n",
      "|   2808|     25|07.01.2013|             0|     999.0|         1.0|\n",
      "|   2808|     25|08.01.2013|             0|     999.0|         2.0|\n",
      "+-------+-------+----------+--------------+----------+------------+\n",
      "only showing top 20 rows\n",
      "\n"
     ]
    },
    {
     "data": {
      "text/plain": [
       "1224439"
      ]
     },
     "execution_count": 5,
     "metadata": {},
     "output_type": "execute_result"
    }
   ],
   "source": [
    "#Only keep data that recent sales -- meanless if analyse products that no salsing for long time\n",
    "shop_ids = df_recentsales.select('shop_id').distinct()\n",
    "item_ids = df_recentsales.select('item_id').distinct()\n",
    "df_filtered = df_sales.join(shop_ids, \"shop_id\")\n",
    "df_filtered = df_filtered.join(item_ids, \"item_id\")\n",
    "df_filtered.show()\n",
    "df_filtered.count()"
   ]
  },
  {
   "cell_type": "code",
   "execution_count": 6,
   "metadata": {},
   "outputs": [
    {
     "name": "stdout",
     "output_type": "stream",
     "text": [
      "root\n",
      " |-- item_id: integer (nullable = true)\n",
      " |-- shop_id: integer (nullable = true)\n",
      " |-- date: string (nullable = true)\n",
      " |-- date_block_num: integer (nullable = true)\n",
      " |-- item_price: float (nullable = true)\n",
      " |-- item_cnt_day: integer (nullable = true)\n",
      "\n"
     ]
    }
   ],
   "source": [
    "#change data type - format\n",
    "df_filtered  = df_filtered.withColumn(\"shop_id\", df_filtered[\"shop_id\"].cast(IntegerType()))\n",
    "df_filtered  = df_filtered.withColumn(\"item_id\", df_filtered[\"item_id\"].cast(IntegerType()))\n",
    "df_filtered  = df_filtered.withColumn(\"date_block_num\", df_filtered[\"date_block_num\"].cast(IntegerType()))\n",
    "df_filtered  = df_filtered.withColumn(\"item_cnt_day\", df_filtered[\"item_cnt_day\"].cast(IntegerType()))\n",
    "df_filtered  = df_filtered.withColumn(\"item_price\", df_filtered[\"item_price\"].cast(FloatType()))\n",
    "df_filtered.printSchema()"
   ]
  },
  {
   "cell_type": "code",
   "execution_count": 7,
   "metadata": {},
   "outputs": [
    {
     "name": "stdout",
     "output_type": "stream",
     "text": [
      "+-------+-------+----------+--------------+----------+------------+\n",
      "|item_id|shop_id|      date|date_block_num|item_price|item_cnt_day|\n",
      "+-------+-------+----------+--------------+----------+------------+\n",
      "|  22154|     59|02.01.2013|             0|     999.0|           1|\n",
      "|   2574|     25|03.01.2013|             0|     399.0|           2|\n",
      "|   2574|     25|05.01.2013|             0|     399.0|           1|\n",
      "|   2574|     25|07.01.2013|             0|     399.0|           1|\n",
      "|   2574|     25|08.01.2013|             0|     399.0|           2|\n",
      "|   2574|     25|10.01.2013|             0|     399.0|           1|\n",
      "|   2574|     25|11.01.2013|             0|     399.0|           2|\n",
      "|   2574|     25|13.01.2013|             0|     399.0|           1|\n",
      "|   2574|     25|16.01.2013|             0|     399.0|           1|\n",
      "|   2574|     25|26.01.2013|             0|     399.0|           1|\n",
      "|   2574|     25|27.01.2013|             0|     399.0|           1|\n",
      "|   2607|     25|27.01.2013|             0|     279.0|           1|\n",
      "|   2607|     25|29.01.2013|             0|     279.0|           1|\n",
      "|   2614|     25|19.01.2013|             0|     299.0|           1|\n",
      "|   2614|     25|27.01.2013|             0|     299.0|           1|\n",
      "|   2808|     25|02.01.2013|             0|     999.0|           2|\n",
      "|   2808|     25|03.01.2013|             0|     999.0|           2|\n",
      "|   2808|     25|04.01.2013|             0|     999.0|           1|\n",
      "|   2808|     25|07.01.2013|             0|     999.0|           1|\n",
      "|   2808|     25|08.01.2013|             0|     999.0|           2|\n",
      "+-------+-------+----------+--------------+----------+------------+\n",
      "only showing top 20 rows\n",
      "\n"
     ]
    }
   ],
   "source": [
    "##dealing with error data - negative values\n",
    "#drop off daily sales qty which are negative\n",
    "from pyspark.sql import Window\n",
    "df_filtered = df_filtered.filter('item_cnt_day > 0 and item_price > 0')\n",
    "df_filtered.show()"
   ]
  },
  {
   "cell_type": "code",
   "execution_count": 33,
   "metadata": {},
   "outputs": [
    {
     "name": "stdout",
     "output_type": "stream",
     "text": [
      "+-------+------------------+------------------+----------+-----------------+------------------+------------------+\n",
      "|summary|           item_id|           shop_id|      date|   date_block_num|        item_price|      item_cnt_day|\n",
      "+-------+------------------+------------------+----------+-----------------+------------------+------------------+\n",
      "|  count|           1221498|           1221498|   1221498|          1221498|           1221498|           1221498|\n",
      "|   mean| 9618.671848828242|32.152218832941195|      null|19.35396373960498|1029.2338776667743| 1.326892880708769|\n",
      "| stddev|6300.6176766137405| 16.46378114313089|      null| 9.11081525848673|1824.9177146005516|3.3149275946428665|\n",
      "|    min|                30|                 2|01.01.2013|                0|               0.5|                 1|\n",
      "|    max|             22167|                59|31.12.2014|               33|           59200.0|              2169|\n",
      "+-------+------------------+------------------+----------+-----------------+------------------+------------------+\n",
      "\n"
     ]
    }
   ],
   "source": [
    "#check dataset after dropping negative values\n",
    "df_filtered.describe().show()"
   ]
  },
  {
   "cell_type": "code",
   "execution_count": 8,
   "metadata": {},
   "outputs": [],
   "source": [
    "##dealing with outliers\n",
    "df_filtered = df_filtered.filter('item_cnt_day <700 and item_price < 600000')"
   ]
  },
  {
   "cell_type": "code",
   "execution_count": 35,
   "metadata": {},
   "outputs": [
    {
     "name": "stdout",
     "output_type": "stream",
     "text": [
      "+-------+-------+----------+--------------+----------+------------+\n",
      "|item_id|shop_id|      date|date_block_num|item_price|item_cnt_day|\n",
      "+-------+-------+----------+--------------+----------+------------+\n",
      "|  22154|     59|02.01.2013|             0|     999.0|           1|\n",
      "|   2574|     25|03.01.2013|             0|     399.0|           2|\n",
      "|   2574|     25|05.01.2013|             0|     399.0|           1|\n",
      "|   2574|     25|07.01.2013|             0|     399.0|           1|\n",
      "|   2574|     25|08.01.2013|             0|     399.0|           2|\n",
      "|   2574|     25|10.01.2013|             0|     399.0|           1|\n",
      "|   2574|     25|11.01.2013|             0|     399.0|           2|\n",
      "|   2574|     25|13.01.2013|             0|     399.0|           1|\n",
      "|   2574|     25|16.01.2013|             0|     399.0|           1|\n",
      "|   2574|     25|26.01.2013|             0|     399.0|           1|\n",
      "|   2574|     25|27.01.2013|             0|     399.0|           1|\n",
      "|   2607|     25|27.01.2013|             0|     279.0|           1|\n",
      "|   2607|     25|29.01.2013|             0|     279.0|           1|\n",
      "|   2614|     25|19.01.2013|             0|     299.0|           1|\n",
      "|   2614|     25|27.01.2013|             0|     299.0|           1|\n",
      "|   2808|     25|02.01.2013|             0|     999.0|           2|\n",
      "|   2808|     25|03.01.2013|             0|     999.0|           2|\n",
      "|   2808|     25|04.01.2013|             0|     999.0|           1|\n",
      "|   2808|     25|07.01.2013|             0|     999.0|           1|\n",
      "|   2808|     25|08.01.2013|             0|     999.0|           2|\n",
      "+-------+-------+----------+--------------+----------+------------+\n",
      "only showing top 20 rows\n",
      "\n"
     ]
    },
    {
     "data": {
      "text/plain": [
       "1221496"
      ]
     },
     "execution_count": 35,
     "metadata": {},
     "output_type": "execute_result"
    }
   ],
   "source": [
    "#check dataset after dropping outliers\n",
    "df_filtered.show()\n",
    "df_filtered.count()"
   ]
  },
  {
   "cell_type": "code",
   "execution_count": 9,
   "metadata": {},
   "outputs": [
    {
     "name": "stdout",
     "output_type": "stream",
     "text": [
      "+--------------+-------+-------+-----------+------------+\n",
      "|date_block_num|shop_id|item_id|product_cnt|transactions|\n",
      "+--------------+-------+-------+-----------+------------+\n",
      "|             0|     15|   2308|         18|          12|\n",
      "|             0|     18|  16071|          4|           4|\n",
      "|             0|     42|  16450|         45|          20|\n",
      "|            12|     35|   3316|          2|           2|\n",
      "|            24|     15|  12091|          9|           7|\n",
      "|            24|      7|  19771|          1|           1|\n",
      "|            24|     41|   7834|          2|           2|\n",
      "|            24|     28|   3552|         12|           9|\n",
      "|            24|     28|   3553|          8|           8|\n",
      "|            13|     25|  13518|          2|           2|\n",
      "|            13|     25|   5035|         18|           9|\n",
      "|            13|     31|  14164|          1|           1|\n",
      "|            13|     52|   2635|          1|           1|\n",
      "|            13|     42|   5096|          3|           3|\n",
      "|            13|     58|   3734|         16|          11|\n",
      "|            25|     31|  15066|         30|          20|\n",
      "|            25|     41|  12541|          1|           1|\n",
      "|            25|     41|   8400|          1|           1|\n",
      "|            25|     56|  20609|          1|           1|\n",
      "|            25|     52|   2244|          1|           1|\n",
      "+--------------+-------+-------+-----------+------------+\n",
      "only showing top 20 rows\n",
      "\n",
      "root\n",
      " |-- date_block_num: integer (nullable = true)\n",
      " |-- shop_id: integer (nullable = true)\n",
      " |-- item_id: integer (nullable = true)\n",
      " |-- product_cnt: long (nullable = true)\n",
      " |-- transactions: long (nullable = false)\n",
      "\n"
     ]
    }
   ],
   "source": [
    "from pyspark.sql import types, functions as F\n",
    "group = df_filtered.sort('date').groupby(\"date_block_num\", \"shop_id\", \"item_id\")\n",
    "sales_update = group.agg( F.sum('item_cnt_day').alias('product_cnt'), F.count('item_cnt_day').alias('transactions'))\n",
    "sales_update.show()\n",
    "sales_update.printSchema()"
   ]
  },
  {
   "cell_type": "code",
   "execution_count": 10,
   "metadata": {},
   "outputs": [
    {
     "name": "stdout",
     "output_type": "stream",
     "text": [
      "+--------------+-------+-------+-----------+------------+-------------+\n",
      "|date_block_num|shop_id|item_id|product_cnt|transactions|monthly_sales|\n",
      "+--------------+-------+-------+-----------+------------+-------------+\n",
      "|            30|      2|    975|          1|           1|         null|\n",
      "|            32|      2|    975|          1|           1|            1|\n",
      "|            25|      2|   2422|          2|           2|         null|\n",
      "|            26|      2|   2422|          1|           1|            2|\n",
      "|            30|      2|   2422|          1|           1|            1|\n",
      "|            31|      2|   2422|          1|           1|            1|\n",
      "|            32|      2|   2422|          1|           1|            1|\n",
      "|            33|      2|   2422|          2|           2|            1|\n",
      "|             5|      2|   2574|          1|           1|         null|\n",
      "|            32|      2|   2574|          1|           1|            1|\n",
      "|            23|      2|   5323|          1|           1|         null|\n",
      "|            31|      2|   7029|          1|           1|         null|\n",
      "|            32|      2|   7029|          3|           3|            1|\n",
      "|            11|      2|  10452|          2|           2|         null|\n",
      "|            23|      2|  10452|          1|           1|            2|\n",
      "|            31|      2|  10452|          1|           1|            1|\n",
      "|            21|      2|  10513|          1|           1|         null|\n",
      "|            29|      2|  10513|          1|           1|            1|\n",
      "|            28|      2|  15989|          1|           1|         null|\n",
      "|            33|      2|  15989|          1|           1|            1|\n",
      "+--------------+-------+-------+-----------+------------+-------------+\n",
      "only showing top 20 rows\n",
      "\n"
     ]
    }
   ],
   "source": [
    "sales_update = sales_update.withColumn(\"monthly_sales\", F.lag(\"product_cnt\",1).over(Window.partitionBy(\"shop_id\", \"item_id\").orderBy(\"date_block_num\")))\n",
    "sales_update.show()"
   ]
  },
  {
   "cell_type": "code",
   "execution_count": 11,
   "metadata": {},
   "outputs": [
    {
     "name": "stdout",
     "output_type": "stream",
     "text": [
      "+-------+-------+--------------+-----------+------------+-------------+--------------------+--------------------+\n",
      "|item_id|shop_id|date_block_num|product_cnt|transactions|monthly_sales|           shop_name|           item_name|\n",
      "+-------+-------+--------------+-----------+------------+-------------+--------------------+--------------------+\n",
      "|    975|      2|            30|          1|           1|         null|\"Адыгея ТЦ \"\"Мега\"\"\"|30 SECONDS TO MAR...|\n",
      "|    975|      2|            32|          1|           1|            1|\"Адыгея ТЦ \"\"Мега\"\"\"|30 SECONDS TO MAR...|\n",
      "|   2422|      2|            25|          2|           2|         null|\"Адыгея ТЦ \"\"Мега\"\"\"|Crew [PC, русская...|\n",
      "|   2422|      2|            26|          1|           1|            2|\"Адыгея ТЦ \"\"Мега\"\"\"|Crew [PC, русская...|\n",
      "|   2422|      2|            30|          1|           1|            1|\"Адыгея ТЦ \"\"Мега\"\"\"|Crew [PC, русская...|\n",
      "|   2422|      2|            31|          1|           1|            1|\"Адыгея ТЦ \"\"Мега\"\"\"|Crew [PC, русская...|\n",
      "|   2422|      2|            32|          1|           1|            1|\"Адыгея ТЦ \"\"Мега\"\"\"|Crew [PC, русская...|\n",
      "|   2422|      2|            33|          2|           2|            1|\"Адыгея ТЦ \"\"Мега\"\"\"|Crew [PC, русская...|\n",
      "|   2574|      2|             5|          1|           1|         null|\"Адыгея ТЦ \"\"Мега\"\"\"|DEL REY LANA  Bor...|\n",
      "|   2574|      2|            32|          1|           1|            1|\"Адыгея ТЦ \"\"Мега\"\"\"|DEL REY LANA  Bor...|\n",
      "|   5323|      2|            23|          1|           1|         null|\"Адыгея ТЦ \"\"Мега\"\"\"|ONE DIRECTION  Mi...|\n",
      "|   7029|      2|            31|          1|           1|         null|\"Адыгея ТЦ \"\"Мега\"\"\"|Tom Clancy's Ghos...|\n",
      "|   7029|      2|            32|          3|           3|            1|\"Адыгея ТЦ \"\"Мега\"\"\"|Tom Clancy's Ghos...|\n",
      "|  10452|      2|            11|          2|           2|         null|\"Адыгея ТЦ \"\"Мега\"\"\"|ГОЛОДНЫЕ ИГРЫ (ре...|\n",
      "|  10452|      2|            23|          1|           1|            2|\"Адыгея ТЦ \"\"Мега\"\"\"|ГОЛОДНЫЕ ИГРЫ (ре...|\n",
      "|  10452|      2|            31|          1|           1|            1|\"Адыгея ТЦ \"\"Мега\"\"\"|ГОЛОДНЫЕ ИГРЫ (ре...|\n",
      "|  10513|      2|            21|          1|           1|         null|\"Адыгея ТЦ \"\"Мега\"\"\"|ГРАНЬ БУДУЩЕГО (3...|\n",
      "|  10513|      2|            29|          1|           1|            1|\"Адыгея ТЦ \"\"Мега\"\"\"|ГРАНЬ БУДУЩЕГО (3...|\n",
      "|  15989|      2|            28|          1|           1|         null|\"Адыгея ТЦ \"\"Мега\"\"\"|Наст.книга по опл...|\n",
      "|  15989|      2|            33|          1|           1|            1|\"Адыгея ТЦ \"\"Мега\"\"\"|Наст.книга по опл...|\n",
      "+-------+-------+--------------+-----------+------------+-------------+--------------------+--------------------+\n",
      "only showing top 20 rows\n",
      "\n"
     ]
    }
   ],
   "source": [
    "#Merge Sales data, Supplier data and product data to one table \n",
    "merge_data = sales_update.join(df_supplier, \"shop_id\")\n",
    "merge_data = merge_data.join(df_product, \"item_id\")\n",
    "merge_data.show()"
   ]
  },
  {
   "cell_type": "code",
   "execution_count": 12,
   "metadata": {},
   "outputs": [
    {
     "name": "stdout",
     "output_type": "stream",
     "text": [
      "+-------+-------+--------------+-----------+------------+-------------+--------------------+\n",
      "|item_id|shop_id|date_block_num|product_cnt|transactions|monthly_sales|           shop_name|\n",
      "+-------+-------+--------------+-----------+------------+-------------+--------------------+\n",
      "|    975|      2|            30|          1|           1|         null|\"Адыгея ТЦ \"\"Мега\"\"\"|\n",
      "|    975|      2|            32|          1|           1|            1|\"Адыгея ТЦ \"\"Мега\"\"\"|\n",
      "|   2422|      2|            25|          2|           2|         null|\"Адыгея ТЦ \"\"Мега\"\"\"|\n",
      "|   2422|      2|            26|          1|           1|            2|\"Адыгея ТЦ \"\"Мега\"\"\"|\n",
      "|   2422|      2|            30|          1|           1|            1|\"Адыгея ТЦ \"\"Мега\"\"\"|\n",
      "|   2422|      2|            31|          1|           1|            1|\"Адыгея ТЦ \"\"Мега\"\"\"|\n",
      "|   2422|      2|            32|          1|           1|            1|\"Адыгея ТЦ \"\"Мега\"\"\"|\n",
      "|   2422|      2|            33|          2|           2|            1|\"Адыгея ТЦ \"\"Мега\"\"\"|\n",
      "|   2574|      2|             5|          1|           1|         null|\"Адыгея ТЦ \"\"Мега\"\"\"|\n",
      "|   2574|      2|            32|          1|           1|            1|\"Адыгея ТЦ \"\"Мега\"\"\"|\n",
      "|   5323|      2|            23|          1|           1|         null|\"Адыгея ТЦ \"\"Мега\"\"\"|\n",
      "|   7029|      2|            31|          1|           1|         null|\"Адыгея ТЦ \"\"Мега\"\"\"|\n",
      "|   7029|      2|            32|          3|           3|            1|\"Адыгея ТЦ \"\"Мега\"\"\"|\n",
      "|  10452|      2|            11|          2|           2|         null|\"Адыгея ТЦ \"\"Мега\"\"\"|\n",
      "|  10452|      2|            23|          1|           1|            2|\"Адыгея ТЦ \"\"Мега\"\"\"|\n",
      "|  10452|      2|            31|          1|           1|            1|\"Адыгея ТЦ \"\"Мега\"\"\"|\n",
      "|  10513|      2|            21|          1|           1|         null|\"Адыгея ТЦ \"\"Мега\"\"\"|\n",
      "|  10513|      2|            29|          1|           1|            1|\"Адыгея ТЦ \"\"Мега\"\"\"|\n",
      "|  15989|      2|            28|          1|           1|         null|\"Адыгея ТЦ \"\"Мега\"\"\"|\n",
      "|  15989|      2|            33|          1|           1|            1|\"Адыгея ТЦ \"\"Мега\"\"\"|\n",
      "+-------+-------+--------------+-----------+------------+-------------+--------------------+\n",
      "only showing top 20 rows\n",
      "\n"
     ]
    }
   ],
   "source": [
    "#drop off item_name \n",
    "merge_data=merge_data.drop('item_name')\n",
    "merge_data.show()"
   ]
  },
  {
   "cell_type": "code",
   "execution_count": 13,
   "metadata": {},
   "outputs": [
    {
     "name": "stdout",
     "output_type": "stream",
     "text": [
      "+-------+-------+--------------+-----------+------------+-------------+\n",
      "|item_id|shop_id|date_block_num|product_cnt|transactions|monthly_sales|\n",
      "+-------+-------+--------------+-----------+------------+-------------+\n",
      "|    975|      2|            30|          1|           1|         null|\n",
      "|    975|      2|            32|          1|           1|            1|\n",
      "|   2422|      2|            25|          2|           2|         null|\n",
      "|   2422|      2|            26|          1|           1|            2|\n",
      "|   2422|      2|            30|          1|           1|            1|\n",
      "|   2422|      2|            31|          1|           1|            1|\n",
      "|   2422|      2|            32|          1|           1|            1|\n",
      "|   2422|      2|            33|          2|           2|            1|\n",
      "|   2574|      2|             5|          1|           1|         null|\n",
      "|   2574|      2|            32|          1|           1|            1|\n",
      "|   5323|      2|            23|          1|           1|         null|\n",
      "|   7029|      2|            31|          1|           1|         null|\n",
      "|   7029|      2|            32|          3|           3|            1|\n",
      "|  10452|      2|            11|          2|           2|         null|\n",
      "|  10452|      2|            23|          1|           1|            2|\n",
      "|  10452|      2|            31|          1|           1|            1|\n",
      "|  10513|      2|            21|          1|           1|         null|\n",
      "|  10513|      2|            29|          1|           1|            1|\n",
      "|  15989|      2|            28|          1|           1|         null|\n",
      "|  15989|      2|            33|          1|           1|            1|\n",
      "+-------+-------+--------------+-----------+------------+-------------+\n",
      "only showing top 20 rows\n",
      "\n"
     ]
    }
   ],
   "source": [
    "#drop off shop_name\n",
    "merge_data=merge_data.drop('shop_name')\n",
    "merge_data.show()"
   ]
  },
  {
   "cell_type": "code",
   "execution_count": 11,
   "metadata": {},
   "outputs": [],
   "source": [
    "final_data = sales_update.na.drop()"
   ]
  },
  {
   "cell_type": "code",
   "execution_count": 12,
   "metadata": {},
   "outputs": [],
   "source": [
    "#set train and test set\n",
    "train_set = sales_update.filter(sales_update['date_block_num'] < 33) \n",
    "test_set = sales_update.filter(sales_update['date_block_num'] == 33)\n",
    "train_set = train_set.na.drop()\n",
    "test = test_set.drop('monthly_sales')"
   ]
  },
  {
   "cell_type": "code",
   "execution_count": 13,
   "metadata": {},
   "outputs": [],
   "source": [
    "rf_features = ['shop_id', 'item_id', 'product_cnt', 'transactions', 'date_block_num','monthly_sales']\n",
    "rf_train = train_set[rf_features]\n",
    "test_features = ['shop_id', 'item_id', 'product_cnt', 'transactions', 'date_block_num']"
   ]
  },
  {
   "cell_type": "code",
   "execution_count": 14,
   "metadata": {},
   "outputs": [
    {
     "name": "stdout",
     "output_type": "stream",
     "text": [
      "+-------+-------+-----------+------------+--------------+\n",
      "|shop_id|item_id|product_cnt|transactions|date_block_num|\n",
      "+-------+-------+-----------+------------+--------------+\n",
      "|     46|  15067|          1|           1|            33|\n",
      "|     39|   1988|          1|           1|            33|\n",
      "|      2|   3351|          4|           3|            33|\n",
      "|     26|   1389|          2|           2|            33|\n",
      "|     25|  13233|          5|           4|            33|\n",
      "|     42|  16247|          4|           4|            33|\n",
      "|     35|  16494|          1|           1|            33|\n",
      "|     42|  20660|          1|           1|            33|\n",
      "|     19|  15262|          2|           2|            33|\n",
      "|     21|   2461|          1|           1|            33|\n",
      "|     21|  12080|          1|           1|            33|\n",
      "|     25|  11694|          2|           2|            33|\n",
      "|     44|   1483|          2|           2|            33|\n",
      "|     42|   6128|          3|           3|            33|\n",
      "|     58|   4634|          1|           1|            33|\n",
      "|     45|  15287|          2|           2|            33|\n",
      "|     42|   1716|          6|           6|            33|\n",
      "|     35|  16573|          1|           1|            33|\n",
      "|     48|   8166|          1|           1|            33|\n",
      "|     53|  15240|          3|           3|            33|\n",
      "+-------+-------+-----------+------------+--------------+\n",
      "only showing top 20 rows\n",
      "\n"
     ]
    }
   ],
   "source": [
    "from pyspark.ml.regression import RandomForestRegressor\n",
    "from pyspark.ml.feature import VectorAssembler\n",
    "assembler = VectorAssembler(inputCols=['shop_id', 'item_id', 'transactions', 'date_block_num'], outputCol=\"features\")\n",
    "transformed = assembler.transform(rf_train)\n",
    "rf = RandomForestRegressor(featuresCol=\"features\", labelCol=\"monthly_sales\")\n",
    "rf_test = test[test_features]\n",
    "rf_test.show()"
   ]
  },
  {
   "cell_type": "code",
   "execution_count": 15,
   "metadata": {},
   "outputs": [
    {
     "name": "stdout",
     "output_type": "stream",
     "text": [
      "Feature Importances: (4,[0,1,2,3],[0.0768130363905028,0.027145743537607032,0.8675161529569413,0.028525067114948777])\n"
     ]
    }
   ],
   "source": [
    "rf_model = rf.fit(transformed)\n",
    "print(\"Feature Importances: \" + str(rf_model.featureImportances))\n",
    "predictions = rf_model.transform(assembler.transform(rf_test))"
   ]
  },
  {
   "cell_type": "code",
   "execution_count": 16,
   "metadata": {},
   "outputs": [
    {
     "name": "stdout",
     "output_type": "stream",
     "text": [
      "+-------+-------+-----------+------------+--------------+--------------------+------------------+\n",
      "|shop_id|item_id|product_cnt|transactions|date_block_num|            features|        prediction|\n",
      "+-------+-------+-----------+------------+--------------+--------------------+------------------+\n",
      "|     46|  15067|          1|           1|            33|[46.0,15067.0,1.0...|1.7687733137921016|\n",
      "|     39|   1988|          1|           1|            33|[39.0,1988.0,1.0,...|2.1915517990748166|\n",
      "|      2|   3351|          4|           3|            33|[2.0,3351.0,3.0,3...|2.4158088633136106|\n",
      "|     26|   1389|          2|           2|            33|[26.0,1389.0,2.0,...|2.1058066069231645|\n",
      "|     25|  13233|          5|           4|            33|[25.0,13233.0,4.0...| 2.522655159576644|\n",
      "|     42|  16247|          4|           4|            33|[42.0,16247.0,4.0...|2.3606000861559258|\n",
      "|     35|  16494|          1|           1|            33|[35.0,16494.0,1.0...|1.7687733137921016|\n",
      "|     42|  20660|          1|           1|            33|[42.0,20660.0,1.0...| 2.364493539083843|\n",
      "|     19|  15262|          2|           2|            33|[19.0,15262.0,2.0...|1.8023600950939827|\n",
      "|     21|   2461|          1|           1|            33|[21.0,2461.0,1.0,...| 2.208515569642152|\n",
      "|     21|  12080|          1|           1|            33|[21.0,12080.0,1.0...|  1.99479886952687|\n",
      "|     25|  11694|          2|           2|            33|[25.0,11694.0,2.0...|2.0579658239515046|\n",
      "|     44|   1483|          2|           2|            33|[44.0,1483.0,2.0,...|1.9922670889076137|\n",
      "|     42|   6128|          3|           3|            33|[42.0,6128.0,3.0,...|2.3616836948775104|\n",
      "|     58|   4634|          1|           1|            33|[58.0,4634.0,1.0,...| 2.141697100760852|\n",
      "|     45|  15287|          2|           2|            33|[45.0,15287.0,2.0...|1.7687733137921016|\n",
      "|     42|   1716|          6|           6|            33|[42.0,1716.0,6.0,...| 3.700132494718364|\n",
      "|     35|  16573|          1|           1|            33|[35.0,16573.0,1.0...|1.7687733137921016|\n",
      "|     48|   8166|          1|           1|            33|[48.0,8166.0,1.0,...|1.8954225432739331|\n",
      "|     53|  15240|          3|           3|            33|[53.0,15240.0,3.0...|2.0519337417093473|\n",
      "+-------+-------+-----------+------------+--------------+--------------------+------------------+\n",
      "only showing top 20 rows\n",
      "\n"
     ]
    }
   ],
   "source": [
    "predictions.show()"
   ]
  },
  {
   "cell_type": "code",
   "execution_count": 17,
   "metadata": {},
   "outputs": [],
   "source": [
    "# save data\n",
    "predictions.toPandas().to_csv(r'predict_output.csv')"
   ]
  },
  {
   "cell_type": "code",
   "execution_count": null,
   "metadata": {},
   "outputs": [],
   "source": []
  }
 ],
 "metadata": {
  "kernelspec": {
   "display_name": "Python 3",
   "language": "python",
   "name": "python3"
  },
  "language_info": {
   "codemirror_mode": {
    "name": "ipython",
    "version": 3
   },
   "file_extension": ".py",
   "mimetype": "text/x-python",
   "name": "python",
   "nbconvert_exporter": "python",
   "pygments_lexer": "ipython3",
   "version": "3.5.2"
  }
 },
 "nbformat": 4,
 "nbformat_minor": 2
}
